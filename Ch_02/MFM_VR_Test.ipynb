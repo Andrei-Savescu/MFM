{
 "cells": [
  {
   "cell_type": "code",
   "execution_count": 3,
   "metadata": {},
   "outputs": [
    {
     "name": "stdout",
     "output_type": "stream",
     "text": [
      "Warning - Certain functionality \n",
      "             requires requests_html, which is not installed.\n",
      "             \n",
      "             Install using: \n",
      "             pip install requests_html\n",
      "             \n",
      "             After installation, you may have to restart your Python session.\n"
     ]
    },
    {
     "data": {
      "image/png": "[encoded data removed]",
      "text/plain": [
       "<Figure size 432x288 with 1 Axes>"
      ]
     },
     "metadata": {
      "needs_background": "light"
     },
     "output_type": "display_data"
    }
   ],
   "source": [
    "import warnings\n",
    "warnings.simplefilter(\"ignore\")\n",
    "\n",
    "import pandas as pd\n",
    "import scipy.stats as stat\n",
    "\n",
    "import datetime\n",
    "import numpy as np\n",
    "\n",
    "\n",
    "from yahoo_fin.stock_info import *\n",
    "\n",
    "# We will look at stock prices over the past year, starting at January 1, 2016\n",
    "start = datetime.datetime(2000,1,1)\n",
    "end = datetime.date.today()\n",
    "\n",
    "\n",
    "\n",
    "\n",
    "stock = get_data('msft' , start_date = start, end_date = end)\n",
    "\n",
    "stock.head()\n",
    "\n",
    "stock[\"close\"].plot(grid = False) # Plot the adjusted closing price \n",
    "close = pd.DataFrame(stock[\"close\"])"
   ]
  },
  {
   "cell_type": "code",
   "execution_count": 6,
   "metadata": {},
   "outputs": [
    {
     "name": "stdout",
     "output_type": "stream",
     "text": [
      "Populating the interactive namespace from numpy and matplotlib\n"
     ]
    },
    {
     "data": {
      "image/png": "[encoded data removed]",
      "text/plain": [
       "<Figure size 432x288 with 1 Axes>"
      ]
     },
     "metadata": {
      "needs_background": "light"
     },
     "output_type": "display_data"
    }
   ],
   "source": [
    "\n",
    "vrt = []\n",
    "w=[]\n",
    "varvrt = []\n",
    "zvrt = []\n",
    "q = []\n",
    "lcl=[]\n",
    "ucl=[]\n",
    "vr_1=[]\n",
    "p_value=[]\n",
    "alpha=0.05\n",
    "\n",
    "def VRTest(x,k,alpha):\n",
    "    \n",
    "    x = np.asarray(x)\n",
    "    x = np.log(x)\n",
    "    n = len(x)-1\n",
    "\n",
    "    # Estimate the mean\n",
    "    mu = (x[-1]-x[0])/n\n",
    "  \n",
    "    # Estimate the variance for the 1st order difference\n",
    "\n",
    "    sig_1 = sum((x[1:n]-x[0:n-1]-mu)**2)/(n)\n",
    "  \n",
    "    for ii in range (1, k+1):\n",
    "        a=2**ii\n",
    "        q.append(a)\n",
    "    for i in range(len(q)):\n",
    "        m=(n-q[i]+1)*(1-q[i]/n)\n",
    "       # Estimate the variance for the q-th order difference\n",
    "        sig_q=sum((x[1+q[i]:n]-x[1:n-q[i]]-q[i]*mu)**2)/(m*q[i])\n",
    "       # The raw value of the VRT\n",
    "        vr=sig_q/(sig_1)\n",
    "\n",
    "        vv=0\n",
    "        for j in range (1,q[i]):\n",
    "             \n",
    "            sum2=sum((x[2:n-j]-x[1:n-j-1]-mu)**2)\n",
    "             \n",
    "            sum1=sum(((x[j+2:n]-x[j+1:n-1]-mu)**2)*(((x[2:n-j]-x[1:n-j-1]-mu)**2)))\n",
    "                \n",
    "            delta=sum1/(sum2**2)\n",
    "            vv=vv+(((2*(q[i]-j)/q[i])**2)*delta)\n",
    "        v=vv\n",
    "        z=(vr-1)/np.sqrt(v)\n",
    "        one=1\n",
    "        lower=vr-stat.norm.ppf(1-alpha/2)*np.sqrt(v)\n",
    "        upper=vr+stat.norm.ppf(1-alpha/2)*np.sqrt(v)\n",
    "        pval=stat.norm.cdf(z)\n",
    "        varvrt.append(v)\n",
    "        zvrt.append(z)\n",
    "        vrt.append(vr)\n",
    "        lcl.append(lower)\n",
    "        ucl.append(upper)\n",
    "        vr_1.append(one)\n",
    "        p_value.append(pval)\n",
    "        \n",
    "    return vrt,p_value,zvrt,q;\n",
    "k=4\n",
    "VRTest(close,k,alpha)\n",
    "confidence=1-alpha\n",
    "%pylab inline\n",
    "#pylab.rcParams['figure.figsize'] = (15, 9)   # Change the size of plots\n",
    "plt.ylim(min(lcl), max(ucl)*1.1)\n",
    "plt.xlim(0, 2**k+2)\n",
    "plt.xlabel( 'q' )\n",
    "plt.ylabel( 'VR(q)' )\n",
    "plt.plot(q, vr_1,color='black', linestyle='dashed', label='VR(q)=1')\n",
    "plt.plot(q, vrt, color='blue', marker='o',markerfacecolor='blue', markersize=8,label='VR(q)')\n",
    "plt.plot(q, lcl,color='red', linestyle='dashed', label='LCL ' +str('{:.0%}'.format(confidence)))\n",
    "plt.plot(q, ucl,color='red', linestyle='dashed', label='UCL ' +str('{:.0%}'.format(confidence)))\n",
    "plt.legend(loc='upper center', bbox_to_anchor=(0.5, -0.07),fancybox=True, shadow=True, ncol=5)\n",
    "\n",
    "plt.show()"
   ]
  },
  {
   "cell_type": "markdown",
   "metadata": {},
   "source": [
    "# Individual Variance Ratio Test"
   ]
  },
  {
   "cell_type": "code",
   "execution_count": 7,
   "metadata": {},
   "outputs": [],
   "source": [
    "\n",
    "results=pd.DataFrame(columns=['q','VR test', 'z statistic', 'P-value'])\n",
    "results['q']=q\n",
    "results['VR test']=vrt\n",
    "results['z statistic']=zvrt\n",
    "results['P-value']=p_value"
   ]
  },
  {
   "cell_type": "code",
   "execution_count": 116,
   "metadata": {},
   "outputs": [
    {
     "data": {
      "text/latex": [
       "\\[\\left\\{ \\begin{align}\n",
       "  & {{H}_{0i}}:VR({{q}_{i}})=1 \\\\ \n",
       " & {{H}_{Ai}}:VR({{q}_{i}})\\ne 1 \\\\ \n",
       "\\end{align} \\right.\\]\n"
      ],
      "text/plain": [
       "<IPython.core.display.Latex object>"
      ]
     },
     "metadata": {},
     "output_type": "display_data"
    }
   ],
   "source": [
    "%%latex\n",
    "\\[\\left\\{ \\begin{align}\n",
    "  & {{H}_{0i}}:VR({{q}_{i}})=1 \\\\ \n",
    " & {{H}_{Ai}}:VR({{q}_{i}})\\ne 1 \\\\ \n",
    "\\end{align} \\right.\\]\n"
   ]
  },
  {
   "cell_type": "code",
   "execution_count": 8,
   "metadata": {},
   "outputs": [
    {
     "data": {
      "text/html": [
       "<div>\n",
       "<style scoped>\n",
       "    .dataframe tbody tr th:only-of-type {\n",
       "        vertical-align: middle;\n",
       "    }\n",
       "\n",
       "    .dataframe tbody tr th {\n",
       "        vertical-align: top;\n",
       "    }\n",
       "\n",
       "    .dataframe thead th {\n",
       "        text-align: right;\n",
       "    }\n",
       "</style>\n",
       "<table border=\"1\" class=\"dataframe\">\n",
       "  <thead>\n",
       "    <tr style=\"text-align: right;\">\n",
       "      <th></th>\n",
       "      <th>q</th>\n",
       "      <th>VR test</th>\n",
       "      <th>z statistic</th>\n",
       "      <th>P-value</th>\n",
       "    </tr>\n",
       "  </thead>\n",
       "  <tbody>\n",
       "    <tr>\n",
       "      <th>0</th>\n",
       "      <td>2</td>\n",
       "      <td>[0.9165649987791218]</td>\n",
       "      <td>[-3.3093517376128028]</td>\n",
       "      <td>[0.00046756138966626694]</td>\n",
       "    </tr>\n",
       "    <tr>\n",
       "      <th>1</th>\n",
       "      <td>4</td>\n",
       "      <td>[0.8615353080845876]</td>\n",
       "      <td>[-3.0104989110488733]</td>\n",
       "      <td>[0.0013040944161031398]</td>\n",
       "    </tr>\n",
       "    <tr>\n",
       "      <th>2</th>\n",
       "      <td>8</td>\n",
       "      <td>[0.8009819750680817]</td>\n",
       "      <td>[-2.842069444818066]</td>\n",
       "      <td>[0.0022410863579295013]</td>\n",
       "    </tr>\n",
       "    <tr>\n",
       "      <th>3</th>\n",
       "      <td>16</td>\n",
       "      <td>[0.786641677666045]</td>\n",
       "      <td>[-2.115131910243346]</td>\n",
       "      <td>[0.01720935309808621]</td>\n",
       "    </tr>\n",
       "  </tbody>\n",
       "</table>\n",
       "</div>"
      ],
      "text/plain": [
       "    q               VR test            z statistic                   P-value\n",
       "0   2  [0.9165649987791218]  [-3.3093517376128028]  [0.00046756138966626694]\n",
       "1   4  [0.8615353080845876]  [-3.0104989110488733]   [0.0013040944161031398]\n",
       "2   8  [0.8009819750680817]   [-2.842069444818066]   [0.0022410863579295013]\n",
       "3  16   [0.786641677666045]   [-2.115131910243346]     [0.01720935309808621]"
      ]
     },
     "execution_count": 8,
     "metadata": {},
     "output_type": "execute_result"
    }
   ],
   "source": [
    "results"
   ]
  },
  {
   "cell_type": "markdown",
   "metadata": {},
   "source": [
    "# Multiple Variance Ratio Test"
   ]
  },
  {
   "cell_type": "code",
   "execution_count": 9,
   "metadata": {},
   "outputs": [],
   "source": [
    "\n",
    "z=abs(results[\"z statistic\"]).max()\n",
    "p_v=stat.norm.cdf(stat.norm.ppf(1-(1-alpha)**(1/len(results))))\n",
    "mvr=pd.DataFrame(columns=['z statistic', 'P-value'])\n",
    "mvr.at[0,\"z statistic\"]=z\n",
    "mvr[\"P-value\"]=p_v\n"
   ]
  },
  {
   "cell_type": "code",
   "execution_count": 10,
   "metadata": {},
   "outputs": [
    {
     "data": {
      "text/html": [
       "<div>\n",
       "<style scoped>\n",
       "    .dataframe tbody tr th:only-of-type {\n",
       "        vertical-align: middle;\n",
       "    }\n",
       "\n",
       "    .dataframe tbody tr th {\n",
       "        vertical-align: top;\n",
       "    }\n",
       "\n",
       "    .dataframe thead th {\n",
       "        text-align: right;\n",
       "    }\n",
       "</style>\n",
       "<table border=\"1\" class=\"dataframe\">\n",
       "  <thead>\n",
       "    <tr style=\"text-align: right;\">\n",
       "      <th></th>\n",
       "      <th>z statistic</th>\n",
       "      <th>P-value</th>\n",
       "    </tr>\n",
       "  </thead>\n",
       "  <tbody>\n",
       "    <tr>\n",
       "      <th>0</th>\n",
       "      <td>[3.3093517376128028]</td>\n",
       "      <td>0.012741</td>\n",
       "    </tr>\n",
       "  </tbody>\n",
       "</table>\n",
       "</div>"
      ],
      "text/plain": [
       "            z statistic   P-value\n",
       "0  [3.3093517376128028]  0.012741"
      ]
     },
     "execution_count": 10,
     "metadata": {},
     "output_type": "execute_result"
    }
   ],
   "source": [
    "mvr"
   ]
  },
  {
   "cell_type": "code",
   "execution_count": null,
   "metadata": {},
   "outputs": [],
   "source": []
  }
 ],
 "metadata": {
  "kernelspec": {
   "display_name": "Python 3",
   "language": "python",
   "name": "python3"
  },
  "language_info": {
   "codemirror_mode": {
    "name": "ipython",
    "version": 3
   },
   "file_extension": ".py",
   "mimetype": "text/x-python",
   "name": "python",
   "nbconvert_exporter": "python",
   "pygments_lexer": "ipython3",
   "version": "3.8.3"
  }
 },
 "nbformat": 4,
 "nbformat_minor": 2
}
