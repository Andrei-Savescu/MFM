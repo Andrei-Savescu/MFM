{
 "cells": [
  {
   "cell_type": "code",
   "execution_count": 70,
   "metadata": {},
   "outputs": [],
   "source": [
    "from pycoingecko import CoinGeckoAPI\n",
    "cg = CoinGeckoAPI()\n",
    "import pandas as pd\n",
    "import numpy as np"
   ]
  },
  {
   "cell_type": "code",
   "execution_count": 71,
   "metadata": {},
   "outputs": [],
   "source": [
    "# /simple/price endpoint with the required parameters\n",
    "#cg.get_coin_history_by_id(id='bitcoin',date='12-01-2020')['market_data']"
   ]
  },
  {
   "cell_type": "code",
   "execution_count": 72,
   "metadata": {},
   "outputs": [],
   "source": [
    "coins=pd.DataFrame(cg.get_coins_list())\n",
    "coins=coins.head()"
   ]
  },
  {
   "cell_type": "code",
   "execution_count": 73,
   "metadata": {},
   "outputs": [],
   "source": [
    "id=coins['id'].values.tolist()\n",
    "s=coins['symbol'].values.tolist()\n"
   ]
  },
  {
   "cell_type": "code",
   "execution_count": 74,
   "metadata": {},
   "outputs": [],
   "source": [
    "# Python program to convert a list \n",
    "# to string using join() function \n",
    "\t\n",
    "# Function to convert \n",
    "def listToString(s): \n",
    "\t\n",
    "\t# initialize an empty string \n",
    "\tstr1 = \" \"\n",
    "\t\n",
    "\t# return string \n",
    "\treturn (str1.join(s)) "
   ]
  },
  {
   "cell_type": "code",
   "execution_count": 75,
   "metadata": {},
   "outputs": [],
   "source": [
    "\n",
    "start_dti = '1, 1, 2020' #month, day, year\n",
    "end_dti = '1, 3, 2020' #month, day, year\n",
    "index = pd.date_range(start_dti, end_dti)\n",
    "data= pd.DataFrame(\n",
    "    [d] for d in index.strftime('%d-%m-%Y')\n",
    ")\n",
    "data.columns={'date'}"
   ]
  },
  {
   "cell_type": "code",
   "execution_count": 76,
   "metadata": {},
   "outputs": [],
   "source": [
    "\n",
    "s= np.array(coins['symbol']).transpose().tolist()\n",
    "df = pd.DataFrame(np.empty((0, len(s))))   \n",
    "df.columns=s\n",
    "coins_market=pd.concat([data,df],axis=1)\n",
    "coins_market.set_index('date',inplace=True)\n",
    "\n",
    "coins_price=pd.concat([data,df],axis=1)\n",
    "coins_price.set_index('date',inplace=True)\n",
    "\n",
    "coins_vol=pd.concat([data,df],axis=1)\n",
    "coins_vol.set_index('date',inplace=True)"
   ]
  },
  {
   "cell_type": "code",
   "execution_count": 77,
   "metadata": {},
   "outputs": [],
   "source": [
    "\n",
    "for i in (id):\n",
    "    \n",
    "    for d in index.strftime('%d-%m-%Y'):\n",
    "        try:\n",
    "            market_cap= cg.get_coin_history_by_id(i, str(d))['market_data']['market_cap']['usd']\n",
    "            price= cg.get_coin_history_by_id(i, str(d))['market_data']['current_price']['usd']\n",
    "            vol= cg.get_coin_history_by_id(i, str(d))['market_data']['total_volume']['usd']\n",
    "        except:\n",
    "            market_cap=None\n",
    "            price=None\n",
    "            vol=None\n",
    "            \n",
    "        symbol=listToString(coins.loc[coins[\"id\"] == i, 'symbol'].values)\n",
    "        coins_market.at[d,symbol] = market_cap\n",
    "        coins_price.at[d,symbol] = price\n",
    "        coins_vol.at[d,symbol] = vol"
   ]
  },
  {
   "cell_type": "code",
   "execution_count": 78,
   "metadata": {},
   "outputs": [
    {
     "data": {
      "text/html": [
       "<div>\n",
       "<style scoped>\n",
       "    .dataframe tbody tr th:only-of-type {\n",
       "        vertical-align: middle;\n",
       "    }\n",
       "\n",
       "    .dataframe tbody tr th {\n",
       "        vertical-align: top;\n",
       "    }\n",
       "\n",
       "    .dataframe thead th {\n",
       "        text-align: right;\n",
       "    }\n",
       "</style>\n",
       "<table border=\"1\" class=\"dataframe\">\n",
       "  <thead>\n",
       "    <tr style=\"text-align: right;\">\n",
       "      <th></th>\n",
       "      <th>zoc</th>\n",
       "      <th>algohalf</th>\n",
       "      <th>althalf</th>\n",
       "      <th>balhalf</th>\n",
       "      <th>trybhalf</th>\n",
       "    </tr>\n",
       "    <tr>\n",
       "      <th>date</th>\n",
       "      <th></th>\n",
       "      <th></th>\n",
       "      <th></th>\n",
       "      <th></th>\n",
       "      <th></th>\n",
       "    </tr>\n",
       "  </thead>\n",
       "  <tbody>\n",
       "    <tr>\n",
       "      <th>01-01-2020</th>\n",
       "      <td>20921.196850</td>\n",
       "      <td>NaN</td>\n",
       "      <td>NaN</td>\n",
       "      <td>NaN</td>\n",
       "      <td>NaN</td>\n",
       "    </tr>\n",
       "    <tr>\n",
       "      <th>02-01-2020</th>\n",
       "      <td>19788.306202</td>\n",
       "      <td>NaN</td>\n",
       "      <td>NaN</td>\n",
       "      <td>NaN</td>\n",
       "      <td>NaN</td>\n",
       "    </tr>\n",
       "    <tr>\n",
       "      <th>03-01-2020</th>\n",
       "      <td>20764.851342</td>\n",
       "      <td>NaN</td>\n",
       "      <td>NaN</td>\n",
       "      <td>NaN</td>\n",
       "      <td>NaN</td>\n",
       "    </tr>\n",
       "  </tbody>\n",
       "</table>\n",
       "</div>"
      ],
      "text/plain": [
       "                     zoc  algohalf  althalf  balhalf  trybhalf\n",
       "date                                                          \n",
       "01-01-2020  20921.196850       NaN      NaN      NaN       NaN\n",
       "02-01-2020  19788.306202       NaN      NaN      NaN       NaN\n",
       "03-01-2020  20764.851342       NaN      NaN      NaN       NaN"
      ]
     },
     "execution_count": 78,
     "metadata": {},
     "output_type": "execute_result"
    }
   ],
   "source": [
    "coins_market"
   ]
  },
  {
   "cell_type": "code",
   "execution_count": 79,
   "metadata": {},
   "outputs": [
    {
     "data": {
      "text/html": [
       "<div>\n",
       "<style scoped>\n",
       "    .dataframe tbody tr th:only-of-type {\n",
       "        vertical-align: middle;\n",
       "    }\n",
       "\n",
       "    .dataframe tbody tr th {\n",
       "        vertical-align: top;\n",
       "    }\n",
       "\n",
       "    .dataframe thead th {\n",
       "        text-align: right;\n",
       "    }\n",
       "</style>\n",
       "<table border=\"1\" class=\"dataframe\">\n",
       "  <thead>\n",
       "    <tr style=\"text-align: right;\">\n",
       "      <th></th>\n",
       "      <th>zoc</th>\n",
       "      <th>algohalf</th>\n",
       "      <th>althalf</th>\n",
       "      <th>balhalf</th>\n",
       "      <th>trybhalf</th>\n",
       "    </tr>\n",
       "    <tr>\n",
       "      <th>date</th>\n",
       "      <th></th>\n",
       "      <th></th>\n",
       "      <th></th>\n",
       "      <th></th>\n",
       "      <th></th>\n",
       "    </tr>\n",
       "  </thead>\n",
       "  <tbody>\n",
       "    <tr>\n",
       "      <th>01-01-2020</th>\n",
       "      <td>0.002074</td>\n",
       "      <td>NaN</td>\n",
       "      <td>NaN</td>\n",
       "      <td>NaN</td>\n",
       "      <td>NaN</td>\n",
       "    </tr>\n",
       "    <tr>\n",
       "      <th>02-01-2020</th>\n",
       "      <td>0.002000</td>\n",
       "      <td>NaN</td>\n",
       "      <td>NaN</td>\n",
       "      <td>NaN</td>\n",
       "      <td>NaN</td>\n",
       "    </tr>\n",
       "    <tr>\n",
       "      <th>03-01-2020</th>\n",
       "      <td>0.002123</td>\n",
       "      <td>NaN</td>\n",
       "      <td>NaN</td>\n",
       "      <td>NaN</td>\n",
       "      <td>NaN</td>\n",
       "    </tr>\n",
       "  </tbody>\n",
       "</table>\n",
       "</div>"
      ],
      "text/plain": [
       "                 zoc  algohalf  althalf  balhalf  trybhalf\n",
       "date                                                      \n",
       "01-01-2020  0.002074       NaN      NaN      NaN       NaN\n",
       "02-01-2020  0.002000       NaN      NaN      NaN       NaN\n",
       "03-01-2020  0.002123       NaN      NaN      NaN       NaN"
      ]
     },
     "execution_count": 79,
     "metadata": {},
     "output_type": "execute_result"
    }
   ],
   "source": [
    "coins_price"
   ]
  },
  {
   "cell_type": "code",
   "execution_count": 80,
   "metadata": {},
   "outputs": [
    {
     "data": {
      "text/html": [
       "<div>\n",
       "<style scoped>\n",
       "    .dataframe tbody tr th:only-of-type {\n",
       "        vertical-align: middle;\n",
       "    }\n",
       "\n",
       "    .dataframe tbody tr th {\n",
       "        vertical-align: top;\n",
       "    }\n",
       "\n",
       "    .dataframe thead th {\n",
       "        text-align: right;\n",
       "    }\n",
       "</style>\n",
       "<table border=\"1\" class=\"dataframe\">\n",
       "  <thead>\n",
       "    <tr style=\"text-align: right;\">\n",
       "      <th></th>\n",
       "      <th>zoc</th>\n",
       "      <th>algohalf</th>\n",
       "      <th>althalf</th>\n",
       "      <th>balhalf</th>\n",
       "      <th>trybhalf</th>\n",
       "    </tr>\n",
       "    <tr>\n",
       "      <th>date</th>\n",
       "      <th></th>\n",
       "      <th></th>\n",
       "      <th></th>\n",
       "      <th></th>\n",
       "      <th></th>\n",
       "    </tr>\n",
       "  </thead>\n",
       "  <tbody>\n",
       "    <tr>\n",
       "      <th>01-01-2020</th>\n",
       "      <td>3676.516118</td>\n",
       "      <td>NaN</td>\n",
       "      <td>NaN</td>\n",
       "      <td>NaN</td>\n",
       "      <td>NaN</td>\n",
       "    </tr>\n",
       "    <tr>\n",
       "      <th>02-01-2020</th>\n",
       "      <td>3666.853571</td>\n",
       "      <td>NaN</td>\n",
       "      <td>NaN</td>\n",
       "      <td>NaN</td>\n",
       "      <td>NaN</td>\n",
       "    </tr>\n",
       "    <tr>\n",
       "      <th>03-01-2020</th>\n",
       "      <td>4271.576521</td>\n",
       "      <td>NaN</td>\n",
       "      <td>NaN</td>\n",
       "      <td>NaN</td>\n",
       "      <td>NaN</td>\n",
       "    </tr>\n",
       "  </tbody>\n",
       "</table>\n",
       "</div>"
      ],
      "text/plain": [
       "                    zoc  algohalf  althalf  balhalf  trybhalf\n",
       "date                                                         \n",
       "01-01-2020  3676.516118       NaN      NaN      NaN       NaN\n",
       "02-01-2020  3666.853571       NaN      NaN      NaN       NaN\n",
       "03-01-2020  4271.576521       NaN      NaN      NaN       NaN"
      ]
     },
     "execution_count": 80,
     "metadata": {},
     "output_type": "execute_result"
    }
   ],
   "source": [
    "coins_vol"
   ]
  },
  {
   "cell_type": "code",
   "execution_count": 87,
   "metadata": {},
   "outputs": [],
   "source": [
    "coins_market.to_csv('coins_market.csv')\n",
    "coins_price.to_csv('coins_price.csv')\n",
    "coins_vol.to_csv('coins_vol.csv')"
   ]
  },
  {
   "cell_type": "code",
   "execution_count": null,
   "metadata": {},
   "outputs": [],
   "source": []
  },
  {
   "cell_type": "code",
   "execution_count": null,
   "metadata": {},
   "outputs": [],
   "source": []
  }
 ],
 "metadata": {
  "kernelspec": {
   "display_name": "Python 3",
   "language": "python",
   "name": "python3"
  },
  "language_info": {
   "codemirror_mode": {
    "name": "ipython",
    "version": 3
   },
   "file_extension": ".py",
   "mimetype": "text/x-python",
   "name": "python",
   "nbconvert_exporter": "python",
   "pygments_lexer": "ipython3",
   "version": "3.7.7"
  }
 },
 "nbformat": 4,
 "nbformat_minor": 4
}
